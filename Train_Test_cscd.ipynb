{
 "cells": [
  {
   "cell_type": "code",
   "execution_count": 1,
   "id": "9b47df30-bdd8-4278-9380-dabbf72093bb",
   "metadata": {},
   "outputs": [],
   "source": [
    "from bs4 import BeautifulSoup\n",
    "import pandas as pd \n",
    "import numpy as np\n",
    "import matplotlib.pyplot as plt\n",
    "from sklearn.model_selection import train_test_split\n",
    "from sklearn.linear_model import LinearRegression\n",
    "from sklearn.neighbors import KNeighborsClassifier\n",
    "from sklearn import preprocessing\n",
    "from sklearn.metrics import accuracy_score\n",
    "enc = preprocessing.LabelEncoder()"
   ]
  },
  {
   "cell_type": "code",
   "execution_count": 2,
   "id": "ed27140f",
   "metadata": {},
   "outputs": [],
   "source": [
    "import json\n",
    "from sklearn.svm import SVC\n",
    "from sklearn.preprocessing import StandardScaler\n",
    "from sklearn.datasets import make_classification\n",
    "from sklearn.pipeline import Pipeline\n",
    "import pickle"
   ]
  },
  {
   "cell_type": "code",
   "execution_count": 3,
   "id": "26648ac8-68e3-4666-aef4-7072dbc74b25",
   "metadata": {},
   "outputs": [],
   "source": [
    "normal_data = ['./dataset/allNormals1.xml']\n",
    "anomalies_data = ['./dataset/allAnomalies1.xml', './dataset/allAnomalies2.xml']\n",
    "attacks_data = ['./dataset/allAttacks1.xml', './dataset/allAttacks2.xml', './dataset/allAttacks3.xml', './dataset/allAttacks4.xml', './dataset/allAttacks5.xml']"
   ]
  },
  {
   "cell_type": "code",
   "execution_count": 4,
   "id": "0c333b1d-a51f-4427-a9da-e3e400d63fc4",
   "metadata": {},
   "outputs": [],
   "source": [
    "def get_data():\n",
    "    \n",
    "    data = pd.DataFrame()\n",
    "\n",
    "    for filePath in normal_data:\n",
    "        df1 = pd.read_xml(filePath, xpath='.//request')\n",
    "        df1['label'] = 'normal'\n",
    "\n",
    "    for filePath in anomalies_data:\n",
    "        df2 = pd.read_xml(filePath, xpath='.//request')\n",
    "        df2['label'] = 'anomalous'\n",
    "\n",
    "    for filePath in attacks_data:\n",
    "        df3 = pd.read_xml(filePath, xpath='.//request')\n",
    "        df3['label'] = 'attack'\n",
    "\n",
    "    frames = [df1, df2, df3]\n",
    "\n",
    "    data = pd.concat(frames)\n",
    "    data = data.reset_index(drop=True)\n",
    "    # print(data.head())\n",
    "    return data\n"
   ]
  },
  {
   "cell_type": "code",
   "execution_count": 8,
   "id": "28a56f82-0b8e-4c4c-8997-295d382005a1",
   "metadata": {},
   "outputs": [],
   "source": [
    "def convert_data(data):\n",
    "    converted_data = pd.DataFrame()\n",
    "    classes = {}\n",
    "\n",
    "    data_columns = data.columns.values.tolist()\n",
    "#     print(data_columns)\n",
    "    for i in data_columns:\n",
    "        converted_data[i] = enc.fit_transform(data[i])\n",
    "#         print(enc.classes_)\n",
    "        classes[i] = enc.classes_\n",
    "#     print(classes['label'])\n",
    "    return converted_data, classes\n",
    "# t = convert_data(get_data())"
   ]
  },
  {
   "cell_type": "code",
   "execution_count": 24,
   "id": "a9083c49-4eae-43fd-aa09-a356609de224",
   "metadata": {},
   "outputs": [],
   "source": [
    "data = get_data()\n",
    "# print(data)\n",
    "converted_data, classes = convert_data(data)\n",
    "with open('classes.json', 'wb') as fp:\n",
    "    pickle.dump(classes, fp)\n",
    "\n",
    "\n",
    "model = KNeighborsClassifier(n_neighbors=3)\n",
    "data_columns = data.columns.values.tolist()\n",
    "\n"
   ]
  },
  {
   "cell_type": "code",
   "execution_count": 27,
   "id": "1e0dce90",
   "metadata": {},
   "outputs": [
    {
     "data": {
      "text/html": [
       "<div>\n",
       "<style scoped>\n",
       "    .dataframe tbody tr th:only-of-type {\n",
       "        vertical-align: middle;\n",
       "    }\n",
       "\n",
       "    .dataframe tbody tr th {\n",
       "        vertical-align: top;\n",
       "    }\n",
       "\n",
       "    .dataframe thead th {\n",
       "        text-align: right;\n",
       "    }\n",
       "</style>\n",
       "<table border=\"1\" class=\"dataframe\">\n",
       "  <thead>\n",
       "    <tr style=\"text-align: right;\">\n",
       "      <th></th>\n",
       "      <th>method</th>\n",
       "      <th>protocol</th>\n",
       "      <th>path</th>\n",
       "      <th>headers</th>\n",
       "      <th>query</th>\n",
       "      <th>body</th>\n",
       "      <th>label</th>\n",
       "    </tr>\n",
       "  </thead>\n",
       "  <tbody>\n",
       "    <tr>\n",
       "      <th>0</th>\n",
       "      <td>GET</td>\n",
       "      <td>HTTP/1.1</td>\n",
       "      <td>/tienda1/</td>\n",
       "      <td>Host: localhost:8080\\nUser-Agent: Mozilla/5.0 ...</td>\n",
       "      <td>None</td>\n",
       "      <td>None</td>\n",
       "      <td>normal</td>\n",
       "    </tr>\n",
       "    <tr>\n",
       "      <th>1</th>\n",
       "      <td>GET</td>\n",
       "      <td>HTTP/1.1</td>\n",
       "      <td>/tienda1/publico/productos.jsp</td>\n",
       "      <td>Host: localhost:8080\\nUser-Agent: Mozilla/5.0 ...</td>\n",
       "      <td>None</td>\n",
       "      <td>None</td>\n",
       "      <td>normal</td>\n",
       "    </tr>\n",
       "    <tr>\n",
       "      <th>2</th>\n",
       "      <td>GET</td>\n",
       "      <td>HTTP/1.1</td>\n",
       "      <td>/tienda1/publico/caracteristicas.jsp</td>\n",
       "      <td>Host: localhost:8080\\nUser-Agent: Mozilla/5.0 ...</td>\n",
       "      <td>id=3</td>\n",
       "      <td>None</td>\n",
       "      <td>normal</td>\n",
       "    </tr>\n",
       "    <tr>\n",
       "      <th>3</th>\n",
       "      <td>GET</td>\n",
       "      <td>HTTP/1.1</td>\n",
       "      <td>/tienda1/imagenes/3.gif</td>\n",
       "      <td>Host: localhost:8080\\nUser-Agent: Mozilla/5.0 ...</td>\n",
       "      <td>None</td>\n",
       "      <td>None</td>\n",
       "      <td>normal</td>\n",
       "    </tr>\n",
       "    <tr>\n",
       "      <th>4</th>\n",
       "      <td>GET</td>\n",
       "      <td>HTTP/1.1</td>\n",
       "      <td>/tienda1/publico/caracteristicas.jsp</td>\n",
       "      <td>Host: localhost:8080\\nUser-Agent: Mozilla/5.0 ...</td>\n",
       "      <td>id=2</td>\n",
       "      <td>None</td>\n",
       "      <td>normal</td>\n",
       "    </tr>\n",
       "  </tbody>\n",
       "</table>\n",
       "</div>"
      ],
      "text/plain": [
       "  method  protocol                                  path  \\\n",
       "0    GET  HTTP/1.1                             /tienda1/   \n",
       "1    GET  HTTP/1.1        /tienda1/publico/productos.jsp   \n",
       "2    GET  HTTP/1.1  /tienda1/publico/caracteristicas.jsp   \n",
       "3    GET  HTTP/1.1               /tienda1/imagenes/3.gif   \n",
       "4    GET  HTTP/1.1  /tienda1/publico/caracteristicas.jsp   \n",
       "\n",
       "                                             headers query  body   label  \n",
       "0  Host: localhost:8080\\nUser-Agent: Mozilla/5.0 ...  None  None  normal  \n",
       "1  Host: localhost:8080\\nUser-Agent: Mozilla/5.0 ...  None  None  normal  \n",
       "2  Host: localhost:8080\\nUser-Agent: Mozilla/5.0 ...  id=3  None  normal  \n",
       "3  Host: localhost:8080\\nUser-Agent: Mozilla/5.0 ...  None  None  normal  \n",
       "4  Host: localhost:8080\\nUser-Agent: Mozilla/5.0 ...  id=2  None  normal  "
      ]
     },
     "execution_count": 27,
     "metadata": {},
     "output_type": "execute_result"
    }
   ],
   "source": [
    "data.head()"
   ]
  },
  {
   "cell_type": "code",
   "execution_count": 25,
   "id": "17874392-7dde-407e-87c0-082314140fcd",
   "metadata": {},
   "outputs": [
    {
     "name": "stdout",
     "output_type": "stream",
     "text": [
      "[2 1 2 ... 2 2 0]\n"
     ]
    },
    {
     "data": {
      "image/png": "[encoded data removed]",
      "text/plain": [
       "<Figure size 432x288 with 1 Axes>"
      ]
     },
     "metadata": {
      "needs_background": "light"
     },
     "output_type": "display_data"
    }
   ],
   "source": [
    "x = converted_data[['method', 'protocol', 'path', 'headers', 'query', 'body']]\n",
    "\n",
    "y = converted_data['label']\n",
    "\n",
    "x_train, x_test, y_train, y_test = train_test_split(x, y, test_size=0.2, random_state=0)\n",
    "\n",
    "model.fit(x_train, y_train)\n",
    "\n",
    "predictions = model.predict(x_test)\n",
    "print(predictions)\n",
    "\n",
    "# plt.hist(y_test - predictions)\n",
    "# plt.show()\n"
   ]
  },
  {
   "cell_type": "code",
   "execution_count": 26,
   "id": "fc4dca2c-a46a-4be4-ae2a-70ca815f32ab",
   "metadata": {},
   "outputs": [
    {
     "name": "stdout",
     "output_type": "stream",
     "text": [
      "0.9954423037083074\n"
     ]
    }
   ],
   "source": [
    "# y_test\n",
    "# predictions\n",
    "acc = accuracy_score(y_test, predictions)\n",
    "print(acc)"
   ]
  },
  {
   "cell_type": "code",
   "execution_count": null,
   "id": "48d995bb",
   "metadata": {},
   "outputs": [],
   "source": []
  },
  {
   "cell_type": "code",
   "execution_count": null,
   "id": "47cc8ab5",
   "metadata": {},
   "outputs": [],
   "source": []
  },
  {
   "cell_type": "code",
   "execution_count": null,
   "id": "04405430",
   "metadata": {},
   "outputs": [],
   "source": []
  },
  {
   "cell_type": "code",
   "execution_count": null,
   "id": "08d51aec",
   "metadata": {},
   "outputs": [],
   "source": []
  },
  {
   "cell_type": "code",
   "execution_count": null,
   "id": "e30ac02b",
   "metadata": {},
   "outputs": [],
   "source": []
  },
  {
   "cell_type": "code",
   "execution_count": null,
   "id": "bbd8eff1",
   "metadata": {},
   "outputs": [],
   "source": []
  },
  {
   "cell_type": "code",
   "execution_count": null,
   "id": "6dbd7c0b",
   "metadata": {},
   "outputs": [],
   "source": []
  },
  {
   "cell_type": "code",
   "execution_count": null,
   "id": "14a0e605",
   "metadata": {},
   "outputs": [],
   "source": []
  },
  {
   "cell_type": "code",
   "execution_count": null,
   "id": "4776296f",
   "metadata": {},
   "outputs": [],
   "source": []
  },
  {
   "cell_type": "code",
   "execution_count": null,
   "id": "405f4c85",
   "metadata": {},
   "outputs": [],
   "source": []
  },
  {
   "cell_type": "code",
   "execution_count": null,
   "id": "90e531d8",
   "metadata": {},
   "outputs": [],
   "source": []
  },
  {
   "cell_type": "code",
   "execution_count": null,
   "id": "c10b2332",
   "metadata": {},
   "outputs": [],
   "source": []
  },
  {
   "cell_type": "code",
   "execution_count": null,
   "id": "0444614c",
   "metadata": {},
   "outputs": [],
   "source": [
    "data = get_data()\n",
    "x = data[['method', 'protocol', 'path', 'headers', 'query', 'body']]\n",
    "\n",
    "y = data['label']\n",
    "\n",
    "x_train, x_test, y_train, y_test = train_test_split(x, y, test_size=0.2, random_state=0)"
   ]
  },
  {
   "cell_type": "code",
   "execution_count": null,
   "id": "db66a334",
   "metadata": {},
   "outputs": [],
   "source": [
    "pipe = Pipeline([('scaler', StandardScaler()), ('svc', SVC())])\n",
    "pipe.fit(x_train, y_train)"
   ]
  },
  {
   "cell_type": "code",
   "execution_count": null,
   "id": "cea5d258",
   "metadata": {},
   "outputs": [],
   "source": [
    "pipe.score(x_test, y_test)"
   ]
  },
  {
   "cell_type": "code",
   "execution_count": null,
   "id": "c0a74d10",
   "metadata": {},
   "outputs": [],
   "source": [
    "clf = SVC()\n",
    "clf.fit(x_train, y_train)"
   ]
  },
  {
   "cell_type": "code",
   "execution_count": null,
   "id": "54c4159f",
   "metadata": {},
   "outputs": [],
   "source": [
    "\n",
    "filename = 'threat_model.pkl'\n",
    "pickle.dump(model, open(filename, 'wb'))"
   ]
  },
  {
   "cell_type": "code",
   "execution_count": null,
   "id": "f54e902a",
   "metadata": {},
   "outputs": [],
   "source": [
    "load_model = pickle.load(open('threat_model.pkl', 'rb'))"
   ]
  },
  {
   "cell_type": "code",
   "execution_count": null,
   "id": "3904462e",
   "metadata": {},
   "outputs": [],
   "source": [
    "load_model.predict(x_test)"
   ]
  },
  {
   "cell_type": "code",
   "execution_count": null,
   "id": "b3f442f0",
   "metadata": {},
   "outputs": [],
   "source": [
    "# x_test['method'].values[0]\n",
    "data = {'method':[0], 'protocol':[0], 'path':[0], 'headers':[0], 'query':[0], 'body':[0]}\n",
    "t = pd.DataFrame(data)\n",
    "p = load_model.predict(t)"
   ]
  },
  {
   "cell_type": "code",
   "execution_count": null,
   "id": "e05ad4d7",
   "metadata": {},
   "outputs": [],
   "source": [
    "with open('classes.json', 'rb') as fp:\n",
    "    classes_data = pickle.load(fp)\n",
    "classes_data"
   ]
  },
  {
   "cell_type": "code",
   "execution_count": 9,
   "id": "25ed439e",
   "metadata": {},
   "outputs": [
    {
     "data": {
      "text/plain": [
       "{'method': array(['GET', 'HEAD', 'POST'], dtype=object),\n",
       " 'protocol': array(['HTTP/1.1'], dtype=object),\n",
       " 'path': array(['/', '/examples/jsp/', '/examples/jsp/cal/cal1.jsp',\n",
       "        '/examples/jsp/checkbox/checkresult.jsp',\n",
       "        '/examples/jsp/colors/colrs.jsp', '/examples/jsp/error/err.jsp',\n",
       "        '/examples/jsp/jsp2/el/functions.jsp',\n",
       "        '/examples/jsp/jsp2/el/implicit-objects.jsp',\n",
       "        '/examples/jsp/jsp2/jspx/textRotate.jspx',\n",
       "        '/examples/jsp/num/numguess.jsp',\n",
       "        '/examples/jsp/security/protected/j_security_check',\n",
       "        '/examples/jsp/sessions/carts.jsp', '/examples/servlets/',\n",
       "        '/examples/servlets/servlet/CookieExample',\n",
       "        '/examples/servlets/servlet/RequestParamExample',\n",
       "        '/examples/servlets/servlet/SessionExample', '/tienda1/',\n",
       "        '/tienda1/global/estilos.css', '/tienda1/imagenes/1.gif',\n",
       "        '/tienda1/imagenes/3.gif', '/tienda1/imagenes/logo.gif',\n",
       "        '/tienda1/imagenes/nuestratierra.jpg',\n",
       "        '/tienda1/miembros/editar.jsp', '/tienda1/miembros/fotos.jsp',\n",
       "        '/tienda1/miembros/imagenes/castro.jpg',\n",
       "        '/tienda1/miembros/imagenes/ogono.jpg',\n",
       "        '/tienda1/miembros/imagenes/zarauz.jpg',\n",
       "        '/tienda1/miembros/salir.jsp', '/tienda1/publico/anadir.jsp',\n",
       "        '/tienda1/publico/autenticar.jsp',\n",
       "        '/tienda1/publico/caracteristicas.jsp',\n",
       "        '/tienda1/publico/carrito.jsp', '/tienda1/publico/entrar.jsp',\n",
       "        '/tienda1/publico/miembros.jsp', '/tienda1/publico/pagar.jsp',\n",
       "        '/tienda1/publico/productos.jsp', '/tienda1/publico/registro.jsp',\n",
       "        '/tienda1/publico/vaciar.jsp'], dtype=object),\n",
       " 'headers': array(['Accept-Encoding: identity\\nAccept-Language: en-us,en;q=0.5\\nConnection: close\\nUser-Agent: sqlmap/1.0-dev (r4198) (http://sqlmap.sourceforge.net)\\nAccept-Charset: ISO-8859-15,utf-8;q=0.7,*;q=0.7\\nHost: localhost:8080\\nReferer: http://localhost:8080/tienda1/publico/caracteristicas.jsp UNION ALL SELECT 1202, 1202, 1202, 1202, 1202, 1202, 1202, 1202, 1202, 1202, 1202, 1202, 1202, 1202, 1202, 1202, 1202, 1202, 1202, 1202, 1202, 1202, 1202, 1202, 1202, 1202, 1202, 1202, 1202, 1202, 1202, 1202, 1202, 1202, 1202, 1202, 1202, 1202, 1202, 1202, 1202, 1202, 1202, 1202, 1202-- \\nPragma: no-cache\\nCache-Control: no-cache,no-store',\n",
       "        'Accept-Encoding: identity\\nAccept-Language: en-us,en;q=0.5\\nConnection: close\\nUser-Agent: sqlmap/1.0-dev (r4198) (http://sqlmap.sourceforge.net)\\nAccept-Charset: ISO-8859-15,utf-8;q=0.7,*;q=0.7\\nHost: localhost:8080\\nReferer: http://localhost:8080/tienda1/publico/caracteristicas.jsp UNION ALL SELECT 2302, 2302, 2302, 2302, 2302, 2302, 2302, 2302, 2302, 2302, 2302, 2302, 2302, 2302, 2302, 2302, 2302, 2302, 2302, 2302, 2302, 2302, 2302, 2302, 2302, 2302, 2302, 2302, 2302, 2302, 2302, 2302, 2302, 2302, 2302, 2302, 2302, 2302, 2302, 2302, 2302, 2302-- \\nPragma: no-cache\\nCache-Control: no-cache,no-store',\n",
       "        'Accept-Encoding: identity\\nAccept-Language: en-us,en;q=0.5\\nConnection: close\\nUser-Agent: sqlmap/1.0-dev (r4198) (http://sqlmap.sourceforge.net)\\nAccept-Charset: ISO-8859-15,utf-8;q=0.7,*;q=0.7\\nHost: localhost:8080\\nReferer: http://localhost:8080/tienda1/publico/caracteristicas.jsp UNION ALL SELECT 2713, 2713, 2713, 2713, 2713, 2713, 2713, 2713, 2713, 2713, 2713, 2713, 2713, 2713, 2713, 2713, 2713, 2713, 2713, 2713, 2713, 2713, 2713, 2713, 2713, 2713, 2713, 2713, 2713, 2713, 2713, 2713, 2713, 2713, 2713, 2713, 2713, 2713, 2713, 2713-- \\nPragma: no-cache\\nCache-Control: no-cache,no-store',\n",
       "        ...,\n",
       "        'User-Agent: Mozilla/5.0 (X11; U; Linux i686; en-US; rv:1.9.2.18) Gecko/20110615 Ubuntu/10.04 (lucid) Firefox/3.6.18\\nAccept: text/html,application/xhtml+xml,application/xml;q=0.9,*/*;q=0.8\\nAccept-Language: en-us,en;q=0.5\\nAccept-Charset: ISO-8859-1,utf-8;q=0.7,*;q=0.7\\nKeep-Alive: 115\\nProxy-Connection: keep-alive\\nReferer: http://localhost:8080/tienda1/publico/registro.jsp\\nCookie: JSESSIONID=99BCC669E26661C74042EB0EC9F2FEF7\\nContent-Type: application/x-www-form-urlencoded\\nContent-length: 280\\nHost: localhost:8080',\n",
       "        'User-Agent: Mozilla/5.0 (X11; U; Linux i686; en-US; rv:1.9.2.18) Gecko/20110615 Ubuntu/10.04 (lucid) Firefox/3.6.18\\nAccept: text/html,application/xhtml+xml,application/xml;q=0.9,*/*;q=0.8\\nAccept-Language: en-us,en;q=0.5\\nAccept-Charset: ISO-8859-1,utf-8;q=0.7,*;q=0.7\\nKeep-Alive: 115\\nProxy-Connection: keep-alive\\nReferer: http://localhost:8080/tienda1/publico/registro.jsp\\nCookie: JSESSIONID=99BCC669E26661C74042EB0EC9F2FEF7\\nContent-Type: application/x-www-form-urlencoded\\nContent-length: 282\\nHost: localhost:8080',\n",
       "        'User-Agent: Mozilla/5.0 (X11; U; Linux i686; en-US; rv:1.9.2.18) Gecko/20110615 Ubuntu/10.04 (lucid) Firefox/3.6.18\\nAccept: text/html,application/xhtml+xml,application/xml;q=0.9,*/*;q=0.8\\nAccept-Language: en-us,en;q=0.5\\nAccept-Charset: ISO-8859-1,utf-8;q=0.7,*;q=0.7\\nKeep-Alive: 115\\nProxy-Connection: keep-alive\\nReferer: http://localhost:8080/tienda1/publico/registro.jsp\\nCookie: JSESSIONID=99BCC669E26661C74042EB0EC9F2FEF7\\nContent-Type: application/x-www-form-urlencoded\\nContent-length: 287\\nHost: localhost:8080'],\n",
       "       dtype=object),\n",
       " 'query': array(['B2=%22%3E%3C!--%23EXEC%20cmd=%22dir%20%5C%22--%3E%3C',\n",
       "        'B2=%22%3E%3C!--%23EXEC%20cmd=%22ls%20/%22--%3E%3C',\n",
       "        \"B2=%22'%3CSCRIPT%3Ealert('OWASP%20ZAP');%3C/SCRIPT%3E\",\n",
       "        'B2=%3C!--%23EXEC%20cmd=%22dir%20%5C%22--%3E',\n",
       "        'B2=%3C!--%23EXEC%20cmd=%22ls%20/%22--%3E',\n",
       "        'B2=%3CSCRIPT%3Ealert(%22OWASP%20ZAP%22);%3C/SCRIPT%3E',\n",
       "        \"B2=%3CSCRIPT%3Ealert('OWASP%20ZAP');%3C/SCRIPT%3E\",\n",
       "        'B2=%3CSCRIPT%3Ealert(OWASP%20ZAP);%3C/SCRIPT%3E',\n",
       "        \"B2='%22%3CSCRIPT%3Ealert('OWASP%20ZAP');%3C/SCRIPT%3E\",\n",
       "        'B2=Set-cookie:%20Tamper=9116049879803913113',\n",
       "        'B2=Vaciar%20carrito%20AND%201=1',\n",
       "        'B2=Vaciar%20carrito%20AND%201=2',\n",
       "        'B2=Vaciar%20carrito%20OR%201=1',\n",
       "        'B2=Vaciar%20carrito%22%20AND%20%221%22=%221',\n",
       "        'B2=Vaciar%20carrito%22%20AND%20%221%22=%222',\n",
       "        'B2=Vaciar%20carrito%22%20OR%20%221%22=%221',\n",
       "        \"B2=Vaciar%20carrito'%20AND%20'1'='1\",\n",
       "        \"B2=Vaciar%20carrito'%20AND%20'1'='2\",\n",
       "        \"B2=Vaciar%20carrito'%20OR%20'1'='1\",\n",
       "        \"B2=Vaciar%20carrito');waitfor%20delay%20'0:0:15';--\",\n",
       "        \"B2=Vaciar%20carrito','0');waitfor%20delay%20'0:0:15';--\",\n",
       "        \"B2=Vaciar%20carrito','0','0');waitfor%20delay%20'0:0:15';--\",\n",
       "        \"B2=Vaciar%20carrito','0','0','0');waitfor%20delay%20'0:0:15';--\",\n",
       "        \"B2=Vaciar%20carrito','0','0','0','0');waitfor%20delay%20'0:0:15';--\",\n",
       "        \"B2=Vaciar%20carrito';waitfor%20delay%20'0:0:15';--\",\n",
       "        \"B2=Vaciar%20carrito'INJECTED_PARAM\",\n",
       "        \"B2=Vaciar%20carrito;waitfor%20delay%20'0:0:15';--\",\n",
       "        'B2=Vaciar+carrito', \"B2=alert('OWASP%20ZAP');\",\n",
       "        'B2=any%0ASet-cookie:%20Tamper=9116049879803913113',\n",
       "        'B2=any%0D%0ASet-cookie:%20Tamper=9116049879803913113',\n",
       "        'B2=any%0D%0ASet-cookie:%20Tamper=9116049879803913113%0D%0A',\n",
       "        'B2=any?%0ASet-cookie:%20Tamper=9116049879803913113',\n",
       "        'B2=any?%0D%0ASet-cookie:%20Tamper=9116049879803913113',\n",
       "        'B2=any?%0D%0ASet-cookie:%20Tamper=9116049879803913113%0D%0A',\n",
       "        \"B2=bob@%3CSCRipt%3Ealert('OWASP%20ZAP')%3C/scrIPT%3E.example.org\",\n",
       "        'B2=bob@%3CSCRipt%3Ealert(OWASP%20ZAP)%3C/scrIPT%3E.example.org',\n",
       "        'action=Submit&name=<%21--%23include+file=\"/etc/passwd\"-->&email=w3af%40email.com',\n",
       "        'action=Submit&name=<%21--%23include+file=\"C:%5Cboot.ini\"-->&email=w3af%40email.com',\n",
       "        'action=Submit&name=John&email=<%21--%23include+file=\"/etc/passwd\"-->',\n",
       "        'action=Submit&name=John&email=<%21--%23include+file=\"C:%5Cboot.ini\"-->',\n",
       "        'color1=<%21--%23include+file=\"/etc/passwd\"-->&action=Hint&color2=Blue',\n",
       "        'color1=<%21--%23include+file=\"C:%5Cboot.ini\"-->&action=Hint&color2=Blue',\n",
       "        'color1=Blue&action=Hint&color2=<%21--%23include+file=\"/etc/passwd\"-->',\n",
       "        'color1=Blue&action=Hint&color2=<%21--%23include+file=\"C:%5Cboot.ini\"-->',\n",
       "        'dataname=<%21--%23include+file=\"/etc/passwd\"-->&datavalue=Hello+World',\n",
       "        'dataname=<%21--%23include+file=\"/etc/passwd\"-->&datavalue=bar',\n",
       "        'dataname=<%21--%23include+file=\"C:%5Cboot.ini\"-->&datavalue=Hello+World',\n",
       "        'dataname=<%21--%23include+file=\"C:%5Cboot.ini\"-->&datavalue=bar',\n",
       "        'dataname=Hello+World&datavalue=<%21--%23include+file=\"/etc/passwd\"-->',\n",
       "        'dataname=Hello+World&datavalue=<%21--%23include+file=\"C:%5Cboot.ini\"-->',\n",
       "        'dataname=foo&datavalue=<%21--%23include+file=\"/etc/passwd\"-->',\n",
       "        'dataname=foo&datavalue=<%21--%23include+file=\"C:%5Cboot.ini\"-->',\n",
       "        'foo=<%21--%23include+file=\"/etc/passwd\"-->',\n",
       "        'foo=<%21--%23include+file=\"C:%5Cboot.ini\"-->',\n",
       "        'fruit=<%21--%23include+file=\"/etc/passwd\"-->&fruit=grapes&fruit=oranges&fruit=melons&submit=Submit',\n",
       "        'fruit=<%21--%23include+file=\"/etc/passwd\"-->&submit=Submit',\n",
       "        'fruit=<%21--%23include+file=\"C:%5Cboot.ini\"-->&fruit=grapes&fruit=oranges&fruit=melons&submit=Submit',\n",
       "        'fruit=<%21--%23include+file=\"C:%5Cboot.ini\"-->&submit=Submit',\n",
       "        'fruit=apples&fruit=<%21--%23include+file=\"/etc/passwd\"-->&fruit=oranges&fruit=melons&submit=Submit',\n",
       "        'fruit=apples&fruit=<%21--%23include+file=\"C:%5Cboot.ini\"-->&fruit=oranges&fruit=melons&submit=Submit',\n",
       "        'fruit=apples&fruit=grapes&fruit=<%21--%23include+file=\"/etc/passwd\"-->&fruit=melons&submit=Submit',\n",
       "        'fruit=apples&fruit=grapes&fruit=<%21--%23include+file=\"C:%5Cboot.ini\"-->&fruit=melons&submit=Submit',\n",
       "        'fruit=apples&fruit=grapes&fruit=oranges&fruit=<%21--%23include+file=\"/etc/passwd\"-->&submit=Submit',\n",
       "        'fruit=apples&fruit=grapes&fruit=oranges&fruit=<%21--%23include+file=\"C:%5Cboot.ini\"-->&submit=Submit',\n",
       "        'guess=<%21--%23include+file=\"/etc/passwd\"-->',\n",
       "        'guess=<%21--%23include+file=\"C:%5Cboot.ini\"-->',\n",
       "        'id=%22%3E%3C!--%23EXEC%20cmd=%22dir%20%5C%22--%3E%3C',\n",
       "        'id=%22%3E%3C!--%23EXEC%20cmd=%22ls%20/%22--%3E%3C',\n",
       "        \"id=%22'%3CSCRIPT%3Ealert('OWASP%20ZAP');%3C/SCRIPT%3E\",\n",
       "        'id=%3C!--%23EXEC%20cmd=%22dir%20%5C%22--%3E',\n",
       "        'id=%3C!--%23EXEC%20cmd=%22ls%20/%22--%3E',\n",
       "        'id=%3CSCRIPT%3Ealert(%22OWASP%20ZAP%22);%3C/SCRIPT%3E',\n",
       "        \"id=%3CSCRIPT%3Ealert('OWASP%20ZAP');%3C/SCRIPT%3E\",\n",
       "        'id=%3CSCRIPT%3Ealert(OWASP%20ZAP);%3C/SCRIPT%3E',\n",
       "        'id=%5E(%23%24%21%40%23%24)(()))%2A%2A%2A%2A%2A%2A',\n",
       "        \"id='%22%3CSCRIPT%3Ealert('OWASP%20ZAP');%3C/SCRIPT%3E\",\n",
       "        'id=\\'\\'%3B%21--\"<3FxR>=%26%7B()%7D',\n",
       "        'id=\\'\\'%3B%21--\"<dsnm>=%26%7B()%7D',\n",
       "        'id=\\'\\'%3B%21--\"<jNz1>=%26%7B()%7D',\n",
       "        'id=\\'\\'%3B%21--\"<thbu>=%26%7B()%7D',\n",
       "        'id=\\'\\'%3B%21--\"<uYyc>=%26%7B()%7D', 'id=0jJQE', 'id=1', 'id=2',\n",
       "        'id=3', \"id=3'INJECTED_PARAM\",\n",
       "        'id=<%00SCrIPT>alert(\"thbu\")</SCrIPT>',\n",
       "        'id=<%00SCrIPT>fake_alert(\"FoLM\")</SCrIPT>',\n",
       "        'id=<%00SCrIPT>fake_alert(\"dsnm\")</SCrIPT>', 'id=<%21--',\n",
       "        'id=<%21--%23include+file=\"/etc/passwd\"-->',\n",
       "        'id=<%21--%23include+file=\"C:%5Cboot.ini\"-->',\n",
       "        'id=<IFRAME+SRC=\"javascript:alert(\\'3FxR\\')%3B\"></IFRAME>',\n",
       "        'id=<IFRAME+SRC=\"javascript:alert(\\'thbu\\')%3B\"></IFRAME>',\n",
       "        'id=<IFRAME+SRC=\"javascript:alert(\\'uYyc\\')%3B\"></IFRAME>',\n",
       "        'id=<SCR%00IPt>alert(\"3FxR\")</Sc%00RIPt>',\n",
       "        'id=<SCR%00IPt>alert(\"thbu\")</Sc%00RIPt>',\n",
       "        'id=<SCR%00IPt>alert(\"uYyc\")</Sc%00RIPt>',\n",
       "        'id=<SCrIPT>alert(\"3FxR\")</SCrIPT>',\n",
       "        'id=<SCrIPT>alert(\"thbu\")</SCrIPT>',\n",
       "        'id=<SCrIPT>alert(\"uYyc\")</SCrIPT>',\n",
       "        'id=<SCrIPT>fake_alert(\"FoLM\")</SCrIPT>',\n",
       "        'id=<SCrIPT>fake_alert(\"dsnm\")</SCrIPT>',\n",
       "        'id=<SCrIPT>fake_alert(\"jNz1\")</SCrIPT>',\n",
       "        'id=<ScRIPT>a=/FoLM/%0Afake_alert(a.source)</SCRiPT>',\n",
       "        'id=<ScRIPT>a=/dsnm/%0Afake_alert(a.source)</SCRiPT>',\n",
       "        'id=<ScRIPT>a=/thbu/%0Aalert(a.source)</SCRiPT>',\n",
       "        'id=<ScRIPT>a=/uYyc/%0Aalert(a.source)</SCRiPT>',\n",
       "        'id=<ScRIPt+SrC=http://3FxR/x.js></ScRIPt>',\n",
       "        'id=<ScRIPt+SrC=http://jNz1/x.js></ScRIPt>',\n",
       "        'id=<ScRIPt+SrC=http://uYyc/x.js></ScRIPt>',\n",
       "        'id=<ScRIPt/SrC=http://3FxR/x.js></ScRIPt>',\n",
       "        'id=<ScRIPt/SrC=http://FoLM/x.js></ScRIPt>',\n",
       "        'id=<ScRIPt/SrC=http://jNz1/x.js></ScRIPt>',\n",
       "        'id=<ScRIPt/SrC=http://thbu/x.js></ScRIPt>',\n",
       "        'id=<ScRIPt/SrC=http://uYyc/x.js></ScRIPt>',\n",
       "        'id=<ScRIPt/XSS+SrC=http://3FxR/x.js></ScRIPt>',\n",
       "        'id=<ScRIPt/XSS+SrC=http://dsnm/x.js></ScRIPt>',\n",
       "        'id=<ScRIPt/XSS+SrC=http://thbu/x.js></ScRIPt>',\n",
       "        'id=<ScRIPt/XSS+SrC=http://uYyc/x.js></ScRIPt>',\n",
       "        'id=<ScRIpT>alert(String.fromCharCode(3FxR))</SCriPT>',\n",
       "        'id=<ScRIpT>alert(String.fromCharCode(thbu))</SCriPT>',\n",
       "        'id=<ScRIpT>alert(String.fromCharCode(uYyc))</SCriPT>',\n",
       "        'id=<ScRIpT>fake_alert(String.fromCharCode(FoLM))</SCriPT>',\n",
       "        'id=<ScRIpT>fake_alert(String.fromCharCode(dsnm))</SCriPT>',\n",
       "        'id=DWBzfBsmHLqdmfWPvATGnPdjWDHfLLFSZcamloHdgqIeJsTglRqMbKYmsoGoXoinagMcvmVmNuLVMwJxiOijzaqpjqujoFJHLQZBZcifVltWTaJERjTqhuBqJSZRIVISQpdLdtJzExfsYKjRFcTHYyoGAlqYzpGIMkycorKHdcTFtvLtLMQrdGJetSSzyicDEPNnWYsMMTsWxeLDlNpNoHFdCXYbLVXrYXoLTHmUgwZohwBjBdHvOVfaJCMqEVsNq',\n",
       "        'id=HZ66Z<rQbZ>rQbZ\"rQbZ\\'rQbZ(rQbZ)HZ66Z',\n",
       "        'id=JKDRCLiFysuArMKnZbbDhmxpScYjhCrdhqRkSOcSlTqGOUMIMXlZcWUuEGfGPFjxh',\n",
       "        'id=LjqvZjAaNBeISZYXbzvYTOtpaVTWbwRFFMAgiLNJVaXGVDFORqgJkYalReujpcpPI',\n",
       "        'id=MOvbXCjxAuCmSFYghUlbCabwUCKMdqGzscSZwNgbzzJRCLsmSriqgWezEpLLobiWpInPVjPqroeRYzEQOSRYnEOGtezRIzVuEKiAhsIDNrXshlcsJobmcYVrIZOYjfbfrFVBkyFebCDJZFpDqRCkowBjVetxsbdJQWcQhKIIeqAkeKpLbPkfpUXwttfNbWAYOCiFLLoUbOvPfdiYuhXXENJJpUdcArQPXCzZedDUCHCsJdKKQzZTIfcARgSMZJWoF',\n",
       "        'id=NeFVviXJkRrROtixEOWkZHzeoDFDAYZCqFzDZiqzxISTFZoTdkdxIfNUBNTaCHidg',\n",
       "        'id=SE8rt<rBFA>rBFA\"rBFA\\'rBFA(rBFA)SE8rt',\n",
       "        'id=Set-cookie:%20Tamper=5848483605102085562',\n",
       "        'id=TwvLjtyfSPdvHhaUZCpWAjWKMJUIHrDDybRZpbQiDKxqsxdjycPjTEDxlBzPnGeUMZJQktGFbdqRBbBNtRhqDGvYAOKsDexXJYwMwxjlcWrpJQWpIFpKzSTnTNuFAyMNkFuLTHpFddNGiqOuoqpAvVuSTmLNhbuHQidGBeNKbGxIBCyJrUrpjoIcUDIscVPYqNfIgmTnWsoZWQWYxaXEJgVWUzWCJIjsTJcJaIcWqxmSNndcKbNBckxWatQLwhluOoMoUSBOhOKKxEuWWnjmNWfHweXVIviglZNZlbrZwQBYFPEhnNwtOvROUBMigNvwEYZigOMgBJbCBIOVOUQgySoQHBtoiZQWJxHUjbSbNgUQdBLsZmapGyKCUXqtuvDLtOjRQbBjamxQUSYpxjbPypkhmsORszQdjbrINIbwyevQqeeAoVAIXgYLsrMKmINmRcbSHgZBNUCMlYRTBhznOQLcWqrSSqrhsZCAdnuOdzQiBopOqkcEYGeEcyyJgXrKmVteZflwMecNiXdIuTGvmQGKHucHpfocvQVBeFpyWcILCWmseXdLgncfqsCitwUPjuEoJyxMDGWwstKUoUsKlZwtmFySrBOtOvhZsAyVFFhdiJpKXRLYGqjbtrGGPojSOZzstUIebNXgwxQhwGfuwQfoZIdwbXzStAgKPLRXAACkqdpXcMetLodzLalwAFQKTTsqquXxGnMxhqXQJInELiQMQigyFKzqugUmMpcOJEWSjpkGCdRotChBjlQRwJgPqGxyqouthxyXIMSsENAQCgvemaAJPdokWgJcniMSejkqBILTFIYyUikTyOJyMdpKETkjGTwRFFfnfAtySohBvmbQUVCedGZDKldAIKcyDBoMoXroOFlpLcnfGrBSlFnQdXksPPcqUmFTUlEaCPJQJJlwxHJSAuWgtEcGTJwScKdoHsQHhpSaOWDPkdsUvQhNFceEIMCKaXKuTtFIBnMPohPcHwZujncMZGaqTMIwECBXIbUpNxaNyhjpjPXuEeIKY',\n",
       "        'id=YraNdlEDhStUgcQfkJuTEvLQVQiGNAgLAtQFCfvrREXPzIZpBDLGFLQwXgyNVLcPhnTdmPqmZajzGFOgaAwgDFheEweHLdAeVOfutrnjkqXfEKkEajMJYWNMJqqjMmtazakotqvfFDgnjkdDiVpLIMsRtklmpBNsRmsWoKgyPuPywwfULFaNmMSserzAYXgGtrWTCxGsxgyKdJlqbHvjlcuptVttVwHpyqAgccwixyZThFmpMNplrmTGwKAbKGJebBrBCbETnLGPvUjoCaQEgGyRuQVidCFHQyMfTjCabJxSUmHfJEoKxhKAaJriwgrDXQPVlsMxJyCMxHNyISTeYrgMEMHyevTfNxSRmrFsNKVKMDlMnOggmYNIYXIJIZdDjPNQQWVVTbwoGVWOYKDCxpgkZWtUoRUSReVoyhtdhSSaScdcdhGDAMboUCEAbMlXysaXEevdNifiBSIrtHXRARMqdsZwIIOdEMstoYWQKeQVgqESUJzHNqBliTmPtUYEb',\n",
       "        \"id=alert('OWASP%20ZAP');\",\n",
       "        \"id=bob@%3CSCRipt%3Ealert('OWASP%20ZAP')%3C/scrIPT%3E.example.org\",\n",
       "        'id=bob@%3CSCRipt%3Ealert(OWASP%20ZAP)%3C/scrIPT%3E.example.org',\n",
       "        'id=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',\n",
       "        'id=d%27z%220', 'id=d\\'z\"0',\n",
       "        'id=easORVQvjoXiqGcEdqKPMrzYBTVwplzoSTDdJukTeKXZwgjQHGNnshQyJJixEXpbaMmnVtxxnjDJbshMmZZZXIHjDxshFodLPyKnIXRfnSSncZNjgdKBKSwdNrlUBPyHrEaPKCyvPhfmDezZmjVqHvEItKPRkIVdBOQdEKdnODBZHBQLSxsnTrFsSJqSkjdFufOaRaSkauwuOUpsUJsRORzExwsvoWpkjKyHtyRfZospReLeWiNoEsqFNUjNsrdDocRmDrSrfhALaSuWsEsdjcKTAGKJNVJcHFSaDdjBkKgkYnCBJiqnsZwNVTFzwEFDyzLVRAkZkqakSXXWCjYGdExocIODAmyaKzdcSEAKrflVSGvvKwYLihbxMrrbZyVtxPpbOcPVgdxWjivWHJeWohqCSxJTPLiUoFsHTenrNERLSGurvGFtGbrpvAunfryffzjperAQSxejsYTOXlVyeqwutLmsAcSbqeiTNqgrHpXJgmFdVhvAkhvLIRtHLccZenUyxalakPQPUhgYDFKcGQsjbjXzLoODKHMDHeRqFaWdZibrkmdewCCeHvHRCyBPdictDhGZTPldCCcrZKhSPYRhPLfFbfgtlCVwhykUkKSErPdXjFWMxXvqtLHsKfTybTcwpSPmqgrOjhwjGgeyEZUMuOdkqiVOTxjDsXBnQzWqzxzCEssrIaHJRtGllJCBVuzhYOZhyIDMXmdtUgvDGdFIBJfcCjahZlMOVeHhIKkghYebCQYogYpIbxPfuJpwBNBYDFzKRcNSFVpGLxknITUPnVhLQuRhAqJILDgPzMtuAnjcUlVIfiNQdipjFkRgfqAAqDgzCUnfymNZeKsKlvcwhYEOPGVpbxNPefRlHCyMlnQuHjdHYJwKPKcIiTKegTtLkkdIiNctBmcUZclqhQgJWujTLJczVxSqFhDBAmFHpHiWtmZHowxsuwUjaRXWGIaFPPgqDxjuXEhGlbAenNFHCiVfdVLDjzuHhiFuCcZdqaHzRFRspPtOWhpOyedfAbIQRehknrHmBVIPksLnyVRYRxQxMYJiGiDOZVhBpYCKzKPUPtAhilIQPgTaWlSWFMOhiRftnVStIgVJvHqOTYpOAKXgIgiZYsQbLMVaShYPioNdiySwEcHpDEusBKVtbBixtzLimRqYjFlLJybYNPOqJznINkMePTyBpACtbrJbkJtzkhxCHTovGhuJUlLhGgutBPPSnxrgoLGBeksdwkhFjvELjisnrmfAlftPnSYXEPdZoqANUWIJroVECfMbbbVoDRAfIBIKBlKTKPjDPDFaQxoAqbIrvsMXXewmMBOrLQmcqzpDzicjODgWshmRQBAotyiHZnmANAHIWHDaPIxCsYNKiuTzNMcowlBHNSMarUqWfWxhdqwvFZLOygAPojfldxQEnYYpqMDEaUXGbzdzYgBMDrXWJqkjRqeBvaVTgWTtvnTtJLdsaZnGmVlhyqmrMgzpLiDYWEdmjmiUCVnYJKFNIkOfqpitqRpciOuEqJXcNeLeYVhVWIRiOZAamcUKuyHBdizYjBNPbxOeqBafSkAOhHfDXHUFSzaTdsFlWQYtbVyhFKvIvwjTdBEFgEVrqEkQYVGQEyWOsDKmOUCcIpIbbVaLpUKtnNXAXQlbUwTQidtRnNpitZZoDSZyxUgaQHivWPtWZdjEDAzNSXapOOGXyDeNBlheIFWAFrJncIluZtomoCotTuHOOIyDUiWfRpwdAEuhnhFaGiueyEHDhSXbbGjCpIMwLZIyliudOWFgNRDNsNvBUdjgkfNvuRwDzQacZhTMhHFxfPOkVmqmqirOvgzlVipjkGZatCEZBbHkGGETUHoMamRbSFGLVvaXyouqexZXrtKjBvSefdTLWjXULIQREblLieFnhtDsaJdDnrTcLsZLbTQdcSDQkykgrqZBQfmLQWDfgWyCmHkETKBdTCaBMetGfJzNtVJnsuBbUnNyxTokekRdkKPvhPQxtesXeRsEjfLriduGQmlTfRrabceYLlWKgPRgcKAuGrLIaycLKtghUsnePvWPs',\n",
       "        'id=fbFaQToCEbofktjZbunZaTmGAfZWdQWyDJzDsRNkMuBGprzsOyzdkRONcMcUcrJUxhsaLliOIDdPzIwIsZkhUXsdjjmhDpFCSnGPAkaNWblUvxDOtGVANNrrLCFpPNOAYhdgpdBuPsanyfJCFsERoEYUTlItOksmzkpmdqKlwwrLNHFXHnMaSQjhZibZwDBjoZQZgdpbBkTsOYeEFTRLJjKJKuJEuxQrGnMZZFhQQZzMbpqUwCvfZfMOvbyjecWBJBDFxQoMFttDwHZDyoZzaffyabNZXMOmBvmbYqMkwgRcQLcslIYMPGhUYygfMPqIhhMIqbESaljiVLmQDlBSrtFWuGeNVQZmnfcTpNKttPUpFYmJiVRhVbOSWXLztPVwmdoIVBUfYmCiJBEkvSdfsoYaPHrxKHtsgbhtGzbaycJDhdDiudcpgWgszGHiidLiNLoHKkAWdddvdgeOFaFryFEDCDryFLsBhalHVIsojpqIsPixKAwEmlIuchvipWicWtcWjuvFDTNyGtHKjgzXxZDlNSBNFGcAZVcjHiEDkuVjazXPptgLAeDwwxGBAdDyrPwTLFJQiijGZVkQSarQDMvKxhlAprTIAYDZTXYuVrHFaEtYPSXHasdNFxUJBwgnlYpTEYJmJCUVseCGazsPQXIhbNAUUumzcgEqclhjCVqxiggxZUSbDttirmTzOMcSLPetFePrPNPuyCBDvVzHXVOjOvovDacpsoSWomXQqevrTFmgoKluvhaSmDtFHglZYJrkBWQWzHCKrzrSFbpyJbtxYxrcNgreKFRxSyBIlGBuUpoZArEkYqCYMBNVbLCmkjNXeYWPIBRWMuVksaTvaxbRDJkNVbPpCRnAujHPidxFKDbNFufQRekqxuxnwwyWIsQoAYGNupWkmnqdbJKyGjnRiGrxSpMVuCgAfCbZSvoernlIGHALDrjRtIYWjmwLmLaKbBBisqNXnZGeCpNYoeWaqVyhFACHpGxbPnVEPQuRWmhvjZnMEQMKOLsYQLZWZ',\n",
       "        'id=jAvasCript:alert(\"thbu\")%3B',\n",
       "        'id=javas%00cript:alert(\"thbu\")%3B',\n",
       "        'id=javas%00cript:alert(\"uYyc\")%3B',\n",
       "        'id=javas%09cript:alert(\"thbu\")%3B',\n",
       "        'id=javas%09cript:alert(\"uYyc\")%3B',\n",
       "        'id=javas%26%23x09%3Bcript:alert(\"3FxR\")%3B',\n",
       "        'id=javas%26%23x09%3Bcript:alert(\"thbu\")%3B',\n",
       "        'id=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',\n",
       "        'id=nMhEbcPCJhIvHCSBWAvMZbsHZhJAHSUEnuOREvjCxxujbdEaFMrtIoWhIEVZQtPhndcFwKpYQgBOMiZOlsdxiDyqJdYxbQbUwXmAPjBVdPPbQYQtKnEquxBttrdbcdQuaCvBjFfVFAulhFnsePHogGbZGKkpihCpsiuTglTOlAeTzYWPFwgOdMdJtKqgSANOjzMuqaeHnIcQAoiLzNlgcsqAoNPhrrJrQkahhWgHQEJMJeVbusVwOHAjUqEtiwJxoMbzoZpzXHemPoufWddZifdolIwQDiUxerAImlILCKmYLVarXCXIkkVrKcKVUZdNQbldnoldGKZoshhXjXsfiuomcJyuTIMgcHrgrzSttaDOeiaYtfLsYUFgAgqXiSLCbJsfdalHznsXbwdyPiridFozDxZrezeUzYzMLuiWimgIwemULUIVlPKhzAnHtjlbvnlVVRGSEidXbjoNkxWhKGPXErDcMXcSsEUOTYYuBbaQEsiUFLMUqvbRIzUyBObcUxHgcPHoaBTKuofhaUuFRVeqLpHqBJcUsSxusVwPQtoAWiKNkAWjdryKYbUpOKIzpLpMBdnXIUXTivzKykNBTfnBzplemYKOBpcpJKpVMbYoKMAjNOpgLiAtNaarHNPLpiinvunOuMyKdWHMWwbVrJKXmZFAdokAxNPLaYzOOKqIwcvbOhmUcLihnqaSunEiFOOyTisRZdzUWgpkOvpHmVvLoPQkVqxaacWRmpwRNzupVuREePantFlpGlSnoRjKuhsXpfcMeMohjiopSjnmvvrXFTfKUFkjJcvbxWBHtkOclqLfCMqSpwyONOMfnUHdhumlbsJSzwKkiQxjgYQdHeHeKWwvgqRMFhiXzZXmGGYRxNyDRIFNeBDIJyxsHCugtbVXkrFgjARoRODFrWOvKvTdrktfmadpjzqmhqxUhCqvWNZTYwvLKvVRaztjtgRktMAOdCUownGfFJzbwsVSVUjAePBKjjzxFaMuSgEYvDUHvFopZbQjmVzBjDdpVsiKX',\n",
       "        'id=ncsDvIKVXMUbPrCmkvdXblahijbIZXeQzqMPXVbWWGTKrTgTdzznMdEPGmnTGsNrTSpQUNipTUdXKEGtSghwdRJLSTONyMjSbofopDqWPcOosaQaXsWkPDkGRfsQNPcJzzNpfAYssIMrKzQEuuYvZhGbFQBvcnCpWhLXHAOzodgaRMoTyNoDIYmzmJjdRWDaRslazsAdyMfOizNSgzUBlxFWQgubMuefPtTBvcgnVLNFuoZWtWghIeCzIvJuLhmEBBAgXkHOtEenGczzrzbpoMxRAcmRJYHKXJqjOYDEuxHRTDMoUOMajbTnqBZrLtVMUiFmXkdITdGmOMgARARJUCoYapOZRieheGVmmyXUGFFoAFRFibhvXOWpQWqUDttyKXszLnjlLFzMsvZNlzhsGOkSHJsgnaMmFaHmrfmJpinyLhHgHQXIdwHicnzUUQHYfEyOrKzozUveodinLCNxcGUiHSeBoMtjiWbIstRfWbuFyUyfMFcYSgmoLYOohtBBN',\n",
       "        'id=pZtI3<ahTm>ahTm\"ahTm\\'ahTm(ahTm)pZtI3',\n",
       "        'id=rjgfeeUtPxMxomExPAfDyPCVEFStAaVWeFGLIlwccaWUJdazZmERJGLpWcovfKEiGlJlSsPJRsicBPxdEglukqctaUPiaTEMftOiLPmkeCLfNFaBLqGXfYksIOUACrPqPZWwbdfeHBnpacFfPpeIbGwcYDHJCqjLCnfIWvHiopAQKaHSJXAkVbrbntcPJvpbsiBUxiLcVcHznyuYcRJoLKiAmYyhpnJhKQUnmhsZBATMGLAmHiwIxLApnRjgoOQvA',\n",
       "        'id=uFOOxslplvMmiEKQwVuzQeDXokiAaVVBWjsBhxXzJExKFrvTJRtjiaXHSCtaINeAGIjUPlVHEbwNjtoBJyVqeaKXxpmpnGgaXDTcwNzhbjStCbgotbNpRXCyXxLkMRwoebnlWnkLdProXfBxzSgjZgPUTVTzZmnGZZfkrcSvOQvPDWYEDCygvGZCShuZjSEWcHSMJfjdvGovvvzTFsOKagvqYzOypeZSonxxuKgmYKSaieOjjqNUYDUljlfUhzNRZjWdYtZNVTSGLuGywTKHeQBEcifVYdCTYhIIHqfskMLDNgUmfYsIuyZTMYJagVSElZmcoDNNgKgofjijwPjtFBnsvNpluEWKHLuVQVNplcZJYmgBFriECLuqmNLAVtlenJxNPJYHeooVVBQRkwMUijMjUEULdUvJVUzEDeuGcKBxBeTLEOxxmUOmEsQgRKNnzOfREyGYLRpbsgxaBduGfVFgpjsTrxPnpwwhsZovxhNfBNEsmlNKwRWxCnYSkAekx',\n",
       "        'item=<%21--%23include+file=\"/etc/passwd\"-->&submit=remove',\n",
       "        'item=<%21--%23include+file=\"C:%5Cboot.ini\"-->&submit=remove',\n",
       "        'name=<%21--%23include+file=\"/etc/passwd\"-->',\n",
       "        'name=<%21--%23include+file=\"/etc/passwd\"-->&submit=Submit',\n",
       "        'name=<%21--%23include+file=\"C:%5Cboot.ini\"-->',\n",
       "        'name=<%21--%23include+file=\"C:%5Cboot.ini\"-->&submit=Submit',\n",
       "        None, nan], dtype=object),\n",
       " 'body': array(['cantidad=%22%27%3CSCRIPT%3Ealert%28%27OWASP+ZAP%27%29%3B%3C%2FSCRIPT%3E&id=3&nombre=Vino+Rioja&precio=85&B1=A%C3%B1adir+al+carrito',\n",
       "        'cantidad=%22%3E%3C%21--%23EXEC+cmd%3D%22dir+%5C%22--%3E%3C&id=3&nombre=Vino+Rioja&precio=85&B1=A%C3%B1adir+al+carrito',\n",
       "        'cantidad=%22%3E%3C%21--%23EXEC+cmd%3D%22ls+%2F%22--%3E%3C&id=3&nombre=Vino+Rioja&precio=85&B1=A%C3%B1adir+al+carrito',\n",
       "        ..., 'precio=d%27z%220',\n",
       "        'precio=paros%22+style%3D%22background%3Aurl%28javascript%3Aalert%28%27OWASP+ZAP%27%29%29&B1=Pasar+por+caja',\n",
       "        None], dtype=object),\n",
       " 'label': array(['SQLi', 'anomalous', 'normal'], dtype=object)}"
      ]
     },
     "execution_count": 9,
     "metadata": {},
     "output_type": "execute_result"
    }
   ],
   "source": [
    "classes"
   ]
  },
  {
   "cell_type": "code",
   "execution_count": null,
   "id": "8484e20a",
   "metadata": {},
   "outputs": [],
   "source": []
  }
 ],
 "metadata": {
  "kernelspec": {
   "display_name": "Python 3 (ipykernel)",
   "language": "python",
   "name": "python3"
  },
  "language_info": {
   "codemirror_mode": {
    "name": "ipython",
    "version": 3
   },
   "file_extension": ".py",
   "mimetype": "text/x-python",
   "name": "python",
   "nbconvert_exporter": "python",
   "pygments_lexer": "ipython3",
   "version": "3.8.10"
  }
 },
 "nbformat": 4,
 "nbformat_minor": 5
}
